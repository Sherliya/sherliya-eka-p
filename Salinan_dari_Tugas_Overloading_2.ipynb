{
  "nbformat": 4,
  "nbformat_minor": 0,
  "metadata": {
    "colab": {
      "provenance": [],
      "include_colab_link": true
    },
    "kernelspec": {
      "name": "python3",
      "display_name": "Python 3"
    },
    "language_info": {
      "name": "python"
    }
  },
  "cells": [
    {
      "cell_type": "markdown",
      "metadata": {
        "id": "view-in-github",
        "colab_type": "text"
      },
      "source": [
        "<a href=\"https://colab.research.google.com/github/Sherliya/sherliya-eka-p/blob/main/Salinan_dari_Tugas_Overloading_2.ipynb\" target=\"_parent\"><img src=\"https://colab.research.google.com/assets/colab-badge.svg\" alt=\"Open In Colab\"/></a>"
      ]
    },
    {
      "cell_type": "code",
      "execution_count": 1,
      "metadata": {
        "id": "5zCytCeM1uD4"
      },
      "outputs": [],
      "source": [
        "#class Nama\n",
        "class nama:\n",
        "  def gabung(self, nama_depan, nama_tengah, nama_akhir):\n",
        "    p = nama_depan + nama_tengah + nama_akhir\n",
        "    print(p)\n",
        "\n",
        "#Buat fungsi yang digunakan untuk mengabungkan nama dengan ketentuan nama depan, nama tengah, nama akhir, dan seterusnya dianggap 1 (satu) parameter\n",
        "  def gabung(self, *args):\n",
        "        if (len(args) <= 4):\n",
        "            sum = ''\n",
        "            for num in args:\n",
        "                sum += num\n",
        "            print(sum)\n",
        "        else:\n",
        "            print(\"Maksimum 4 argumen\")"
      ]
    },
    {
      "cell_type": "code",
      "source": [
        "#Buat main program\n",
        "hasil = nama()\n",
        "#Panggil fungsi untuk membuat nama lengkap 4 nama teman kalian\n",
        "hasil.gabung(\"sherliya \" , \"eka \" , \"primadhany\")\n",
        "hasil.gabung(\"selvi \" , \"aprilia\")\n",
        "hasil.gabung(\"luzabia \" , \"harlili\")\n",
        "hasil.gabung(\"davina \" , \"maharani\")"
      ],
      "metadata": {
        "id": "liQBcJWZ12MN",
        "colab": {
          "base_uri": "https://localhost:8080/"
        },
        "outputId": "b98dccde-caed-4105-85c4-13d36ec57550"
      },
      "execution_count": 2,
      "outputs": [
        {
          "output_type": "stream",
          "name": "stdout",
          "text": [
            "sherliya eka primadhany\n",
            "selvi aprilia\n",
            "luzabia harlili\n",
            "davina maharani\n"
          ]
        }
      ]
    },
    {
      "cell_type": "code",
      "source": [
        "\n",
        "#Tulisakan kesimpulan dari materi Overloading menurut pemahaman anda!\n",
        " #jadi sebuah kelas dapat memiliki beberapa method dengan nama yang sama tetapi dengan parameter yang berbeda dan dapat dibatasi"
      ],
      "metadata": {
        "id": "xwFmppIG3JGE"
      },
      "execution_count": 3,
      "outputs": []
    }
  ]
}